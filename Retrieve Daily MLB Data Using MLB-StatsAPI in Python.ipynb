{
 "cells": [
  {
   "cell_type": "markdown",
   "id": "c0ce8358",
   "metadata": {},
   "source": [
    "## Retrieve Daily MLB Data Using MLB-StatsAPI in Python"
   ]
  },
  {
   "cell_type": "markdown",
   "id": "113bebb9",
   "metadata": {},
   "source": [
    "MLB-StatsAPI wiki: https://github.com/toddrob99/MLB-StatsAPI/wiki"
   ]
  },
  {
   "cell_type": "markdown",
   "id": "b966c906",
   "metadata": {},
   "source": [
    "### Import neccesary modules"
   ]
  },
  {
   "cell_type": "code",
   "execution_count": 146,
   "id": "e182d7d6",
   "metadata": {},
   "outputs": [],
   "source": [
    "import pandas as pd\n",
    "import numpy as np\n",
    "import datetime\n",
    "\n",
    "# import MLB-StatsAPI module\n",
    "import statsapi"
   ]
  },
  {
   "cell_type": "markdown",
   "id": "37e60fc2",
   "metadata": {},
   "source": [
    "### Leagues ID\n",
    "##### American League = 103\n",
    "##### National League = 104\n",
    "\n",
    "### Divisions ID\n",
    "##### AL West = 200\n",
    "##### AL East = 201\n",
    "##### AL Central = 202\n",
    "##### NL West = 203\n",
    "##### NL East = 204\n",
    "##### NL Central = 205"
   ]
  },
  {
   "cell_type": "markdown",
   "id": "6eec26e1",
   "metadata": {},
   "source": [
    "### Functions that returns current division standings from MLB-StatsAPI"
   ]
  },
  {
   "cell_type": "code",
   "execution_count": 147,
   "id": "b8f50ab7",
   "metadata": {},
   "outputs": [
    {
     "data": {
      "text/html": [
       "<div>\n",
       "<style scoped>\n",
       "    .dataframe tbody tr th:only-of-type {\n",
       "        vertical-align: middle;\n",
       "    }\n",
       "\n",
       "    .dataframe tbody tr th {\n",
       "        vertical-align: top;\n",
       "    }\n",
       "\n",
       "    .dataframe thead th {\n",
       "        text-align: right;\n",
       "    }\n",
       "</style>\n",
       "<table border=\"1\" class=\"dataframe\">\n",
       "  <thead>\n",
       "    <tr style=\"text-align: right;\">\n",
       "      <th></th>\n",
       "      <th>div_rank</th>\n",
       "      <th>name</th>\n",
       "      <th>w</th>\n",
       "      <th>l</th>\n",
       "      <th>gb</th>\n",
       "      <th>elim_num</th>\n",
       "      <th>wc_rank</th>\n",
       "      <th>wc_gb</th>\n",
       "      <th>wc_elim_num</th>\n",
       "    </tr>\n",
       "  </thead>\n",
       "  <tbody>\n",
       "    <tr>\n",
       "      <th>0</th>\n",
       "      <td>1</td>\n",
       "      <td>Minnesota Twins</td>\n",
       "      <td>45</td>\n",
       "      <td>37</td>\n",
       "      <td>-</td>\n",
       "      <td>-</td>\n",
       "      <td>-</td>\n",
       "      <td>-</td>\n",
       "      <td>-</td>\n",
       "    </tr>\n",
       "    <tr>\n",
       "      <th>1</th>\n",
       "      <td>2</td>\n",
       "      <td>Cleveland Guardians</td>\n",
       "      <td>40</td>\n",
       "      <td>37</td>\n",
       "      <td>2.5</td>\n",
       "      <td>81</td>\n",
       "      <td>4</td>\n",
       "      <td>1.5</td>\n",
       "      <td>83</td>\n",
       "    </tr>\n",
       "    <tr>\n",
       "      <th>2</th>\n",
       "      <td>3</td>\n",
       "      <td>Chicago White Sox</td>\n",
       "      <td>38</td>\n",
       "      <td>39</td>\n",
       "      <td>4.5</td>\n",
       "      <td>79</td>\n",
       "      <td>5</td>\n",
       "      <td>3.5</td>\n",
       "      <td>81</td>\n",
       "    </tr>\n",
       "    <tr>\n",
       "      <th>3</th>\n",
       "      <td>4</td>\n",
       "      <td>Detroit Tigers</td>\n",
       "      <td>31</td>\n",
       "      <td>47</td>\n",
       "      <td>12.0</td>\n",
       "      <td>71</td>\n",
       "      <td>10</td>\n",
       "      <td>11.0</td>\n",
       "      <td>73</td>\n",
       "    </tr>\n",
       "    <tr>\n",
       "      <th>4</th>\n",
       "      <td>5</td>\n",
       "      <td>Kansas City Royals</td>\n",
       "      <td>29</td>\n",
       "      <td>48</td>\n",
       "      <td>13.5</td>\n",
       "      <td>70</td>\n",
       "      <td>11</td>\n",
       "      <td>12.5</td>\n",
       "      <td>72</td>\n",
       "    </tr>\n",
       "  </tbody>\n",
       "</table>\n",
       "</div>"
      ],
      "text/plain": [
       "  div_rank                 name   w   l    gb elim_num wc_rank wc_gb  \\\n",
       "0        1      Minnesota Twins  45  37     -        -       -     -   \n",
       "1        2  Cleveland Guardians  40  37   2.5       81       4   1.5   \n",
       "2        3    Chicago White Sox  38  39   4.5       79       5   3.5   \n",
       "3        4       Detroit Tigers  31  47  12.0       71      10  11.0   \n",
       "4        5   Kansas City Royals  29  48  13.5       70      11  12.5   \n",
       "\n",
       "  wc_elim_num  \n",
       "0           -  \n",
       "1          83  \n",
       "2          81  \n",
       "3          73  \n",
       "4          72  "
      ]
     },
     "execution_count": 147,
     "metadata": {},
     "output_type": "execute_result"
    }
   ],
   "source": [
    "def get_division_standings(league, division): \n",
    "    standings = pd.DataFrame(statsapi.standings_data(league)[division]['teams'])\n",
    "    standings = standings[['div_rank', 'name', 'w', 'l', 'gb', 'elim_num', 'wc_rank', 'wc_gb', 'wc_elim_num' ]]\n",
    "    return standings\n",
    "\n",
    "get_division_standings(103,202)"
   ]
  },
  {
   "cell_type": "code",
   "execution_count": 148,
   "id": "e8ad2cde",
   "metadata": {},
   "outputs": [
    {
     "name": "stdout",
     "output_type": "stream",
     "text": [
      "\u001b[1;4mMajor League Standings for 07-04-2022\u001b[0m\n",
      "\n",
      "\u001b[1mAmerican League Standings\u001b[0m\n",
      "American League East\n",
      "Rank Team                   W   L   GB  (E#) WC Rank WC GB (E#)\n",
      " 1   New York Yankees      58  22   -    -      -      -    -  \n",
      " 2   Boston Red Sox        45  35  13.0  70     1    +2.0   -  \n",
      " 3   Toronto Blue Jays     44  36  14.0  69     2    +1.0   -  \n",
      " 4   Tampa Bay Rays        43  37  15.0  68     3      -    -  \n",
      " 5   Baltimore Orioles     37  44  21.5  61     8     6.5   76 \n",
      "\n",
      "American League Central\n",
      "Rank Team                   W   L   GB  (E#) WC Rank WC GB (E#)\n",
      " 1   Minnesota Twins       45  37   -    -      -      -    -  \n",
      " 2   Cleveland Guardians   40  37  2.5   81     4     1.5   83 \n",
      " 3   Chicago White Sox     38  39  4.5   79     5     3.5   81 \n",
      " 4   Detroit Tigers        31  47  12.0  71    10    11.0   73 \n",
      " 5   Kansas City Royals    29  48  13.5  70    11    12.5   72 \n",
      "\n",
      "American League West\n",
      "Rank Team                   W   L   GB  (E#) WC Rank WC GB (E#)\n",
      " 1   Houston Astros        51  27   -    -      -      -    -  \n",
      " 2   Seattle Mariners      39  42  13.5  70     6     4.5   78 \n",
      " 3   Texas Rangers         37  41  14.0  71     7     5.0   79 \n",
      " 4   Los Angeles Angels    37  44  15.5  68     9     6.5   76 \n",
      " 5   Oakland Athletics     26  55  26.5  57    12    17.5   65 \n",
      "\n",
      "\n",
      "\u001b[1mNational League Standings\u001b[0m\n",
      "National League East\n",
      "Rank Team                   W   L   GB  (E#) WC Rank WC GB (E#)\n",
      " 1   New York Mets         49  30   -    -      -      -    -  \n",
      " 2   Atlanta Braves        46  34  3.5   80     2    +2.5   -  \n",
      " 3   Philadelphia Phillies 42  38  7.5   76     4     1.5   81 \n",
      " 4   Miami Marlins         38  40  10.5  74     6     4.5   79 \n",
      " 5   Washington Nationals  29  53  21.5  61    11    15.5   66 \n",
      "\n",
      "National League Central\n",
      "Rank Team                   W   L   GB  (E#) WC Rank WC GB (E#)\n",
      " 1   Milwaukee Brewers     46  35   -    -      -      -    -  \n",
      " 2   St. Louis Cardinals   44  37  2.0   80     3      -    -  \n",
      " 3   Chicago Cubs          32  47  13.0  70     9    11.0   72 \n",
      " 4   Pittsburgh Pirates    32  47  13.0  70    10    11.0   72 \n",
      " 5   Cincinnati Reds       27  51  17.5  66    12    15.5   68 \n",
      "\n",
      "National League West\n",
      "Rank Team                   W   L   GB  (E#) WC Rank WC GB (E#)\n",
      " 1   Los Angeles Dodgers   49  29   -    -      -      -    -  \n",
      " 2   San Diego Padres      47  34  3.5   80     1    +3.0   -  \n",
      " 3   San Francisco Giants  40  37  8.5   77     5     2.0   82 \n",
      " 4   Arizona Diamondbacks  35  44  14.5  70     7     8.0   75 \n",
      " 5   Colorado Rockies      35  44  14.5  70     8     8.0   75 \n",
      "\n",
      "\n"
     ]
    }
   ],
   "source": [
    "def get_all_division_standings():\n",
    "    print('\\033[1;4m' + \"Major League Standings for {}\".format(datetime.datetime.now().strftime('%m-%d-%Y')) + '\\033[0m')\n",
    "    print()\n",
    "    print('\\033[1m' + 'American League Standings' + '\\033[0m')\n",
    "    print(statsapi.standings(103))\n",
    "    print('\\033[1m' + 'National League Standings' + '\\033[0m')\n",
    "    print(statsapi.standings(104))\n",
    "    \n",
    "get_all_division_standings()"
   ]
  },
  {
   "cell_type": "markdown",
   "id": "5ac7958f",
   "metadata": {},
   "source": [
    "### Functions that returns current HR leaders for whole MLB and also for only rookies"
   ]
  },
  {
   "cell_type": "code",
   "execution_count": 149,
   "id": "06a79bc1",
   "metadata": {},
   "outputs": [],
   "source": [
    "def current_hr_leaders():\n",
    "    hr_leaders = statsapi.league_leaders('homeRuns',season = 2022, limit = 5).split('\\n')\n",
    "    return hr_leaders\n",
    "\n",
    "#current_hr_leaders()"
   ]
  },
  {
   "cell_type": "code",
   "execution_count": 150,
   "id": "9f9b3225",
   "metadata": {},
   "outputs": [
    {
     "name": "stdout",
     "output_type": "stream",
     "text": [
      "\u001b[1mMLB Home Run Leaders\u001b[0m\n",
      "Rank Name                 Team                    Value\n",
      " 1   Aaron Judge          New York Yankees         29  \n",
      " 2   Yordan Alvarez       Houston Astros           23  \n",
      " 2   Kyle Schwarber       Philadelphia Phillies    23  \n",
      " 2   Mike Trout           Los Angeles Angels       23  \n",
      " 5   Pete Alonso          New York Mets            22  \n",
      " 5   Anthony Rizzo        New York Yankees         22  \n",
      "\n"
     ]
    }
   ],
   "source": [
    "# Another possibility for current_hr_leaders() function\n",
    "def current_hr_leaders():\n",
    "    print('\\033[1m' + 'MLB Home Run Leaders' + '\\033[0m')\n",
    "    print(statsapi.league_leaders('homeRuns',season = 2022, limit = 5))\n",
    "current_hr_leaders()"
   ]
  },
  {
   "cell_type": "code",
   "execution_count": 151,
   "id": "e520f174",
   "metadata": {},
   "outputs": [
    {
     "data": {
      "text/plain": [
       "['Rank Name                 Team                    Value',\n",
       " ' 1   Julio Rodriguez      Seattle Mariners         14  ',\n",
       " ' 2   Jack Suwinski        Pittsburgh Pirates       13  ',\n",
       " ' 3   Jeremy Pena          Houston Astros           11  ',\n",
       " ' 3   Bobby Witt Jr.       Kansas City Royals       11  ',\n",
       " ' 5   Juan Yepez           St. Louis Cardinals      10  ',\n",
       " '']"
      ]
     },
     "execution_count": 151,
     "metadata": {},
     "output_type": "execute_result"
    }
   ],
   "source": [
    "def current_rookie_hr_leaders():\n",
    "    rookie_hr_leaders = statsapi.league_leaders('homeRuns',season = 2022, playerPool = 'rookies',limit = 5)\n",
    "    rookie_hr_leaders = rookie_hr_leaders.split('\\n')\n",
    "    return rookie_hr_leaders\n",
    "\n",
    "current_rookie_hr_leaders()"
   ]
  },
  {
   "cell_type": "markdown",
   "id": "1b305033",
   "metadata": {},
   "source": [
    "### Function that returns current RBI leaders"
   ]
  },
  {
   "cell_type": "code",
   "execution_count": 152,
   "id": "ceb23b7c",
   "metadata": {},
   "outputs": [
    {
     "name": "stdout",
     "output_type": "stream",
     "text": [
      "\u001b[1mMLB RBI Leaders\u001b[0m\n",
      "Rank Name                 Team                    Value\n",
      " 1   Pete Alonso          New York Mets            69  \n",
      " 2   Paul Goldschmidt     St. Louis Cardinals      65  \n",
      " 3   C.J. Cron            Colorado Rockies         64  \n",
      " 4   Jose Ramirez         Cleveland Guardians      63  \n",
      " 5   Aaron Judge          New York Yankees         59  \n",
      "\n"
     ]
    }
   ],
   "source": [
    "def current_rbi_leaders():\n",
    "    print('\\033[1m' + 'MLB RBI Leaders' + '\\033[0m')\n",
    "    print(statsapi.league_leaders('RBI',season = 2022, limit = 5))\n",
    "current_rbi_leaders()"
   ]
  },
  {
   "cell_type": "markdown",
   "id": "f2d09507",
   "metadata": {},
   "source": [
    "### Function that returns current hits leaders"
   ]
  },
  {
   "cell_type": "code",
   "execution_count": 153,
   "id": "365439a2",
   "metadata": {},
   "outputs": [
    {
     "name": "stdout",
     "output_type": "stream",
     "text": [
      "\u001b[1mMLB Hits Leaders\u001b[0m\n",
      "Rank Name                 Team                    Value\n",
      " 1   Rafael Devers        Boston Red Sox           104 \n",
      " 2   Paul Goldschmidt     St. Louis Cardinals      100 \n",
      " 3   Trea Turner          Los Angeles Dodgers      98  \n",
      " 4   Freddie Freeman      Los Angeles Dodgers      94  \n",
      " 5   Josh Bell            Washington Nationals     93  \n",
      "\n"
     ]
    }
   ],
   "source": [
    "def current_hits_leaders():\n",
    "    print('\\033[1m' + 'MLB Hits Leaders' + '\\033[0m')\n",
    "    print(statsapi.league_leaders('Hits',season = 2022, limit = 5))\n",
    "current_hits_leaders()"
   ]
  },
  {
   "cell_type": "markdown",
   "id": "513d5596",
   "metadata": {},
   "source": [
    "### Functions that return current ERA leaders"
   ]
  },
  {
   "cell_type": "code",
   "execution_count": 154,
   "id": "2abea21e",
   "metadata": {},
   "outputs": [],
   "source": [
    "def current_era_leaders():\n",
    "    era_leaders = statsapi.league_leaders('ERA',season = 2022, limit = 5)\n",
    "    era_leaders = era_leaders.split('\\n')\n",
    "    return era_leaders\n",
    "\n",
    "#current_era_leaders()"
   ]
  },
  {
   "cell_type": "code",
   "execution_count": 155,
   "id": "7ee7ed5d",
   "metadata": {},
   "outputs": [
    {
     "name": "stdout",
     "output_type": "stream",
     "text": [
      "\u001b[1mMLB ERA Leaders\u001b[0m\n",
      "Rank Name                 Team                    Value\n",
      " 1   Tony Gonsolin        Los Angeles Dodgers     1.54 \n",
      " 2   Shane McClanahan     Tampa Bay Rays          1.74 \n",
      " 3   Sandy Alcantara      Miami Marlins           1.95 \n",
      " 4   Justin Verlander     Houston Astros          2.03 \n",
      " 5   Alek Manoah          Toronto Blue Jays       2.09 \n",
      "\n"
     ]
    }
   ],
   "source": [
    "# Another possibility for current_era_leaders() function\n",
    "def current_era_leaders():\n",
    "    print('\\033[1m' + 'MLB ERA Leaders' + '\\033[0m')\n",
    "    print(statsapi.league_leaders('ERA',season = 2022, limit = 5))\n",
    "\n",
    "current_era_leaders()"
   ]
  },
  {
   "cell_type": "markdown",
   "id": "dc9a8c6e",
   "metadata": {},
   "source": [
    "### Function that retuerns current WHIP leaders"
   ]
  },
  {
   "cell_type": "code",
   "execution_count": 156,
   "id": "4606ca2b",
   "metadata": {},
   "outputs": [
    {
     "name": "stdout",
     "output_type": "stream",
     "text": [
      "\u001b[1mMLB WHIP Leaders\u001b[0m\n",
      "Rank Name                 Team                    Value\n",
      " 1   Shane McClanahan     Tampa Bay Rays          0.81 \n",
      " 2   Tony Gonsolin        Los Angeles Dodgers     0.82 \n",
      " 3   Justin Verlander     Houston Astros          0.83 \n",
      " 4   Corbin Burnes        Milwaukee Brewers       0.92 \n",
      " 5   Aaron Nola           Philadelphia Phillies   0.92 \n",
      "\n"
     ]
    }
   ],
   "source": [
    "def current_whip_leaders():\n",
    "    print('\\033[1m' + 'MLB WHIP Leaders' + '\\033[0m')\n",
    "    print(statsapi.league_leaders('WHIP',season = 2022, limit = 5))\n",
    "current_whip_leaders()"
   ]
  },
  {
   "cell_type": "markdown",
   "id": "ed593e38",
   "metadata": {},
   "source": [
    "### Function that returns current Strike Out leaders"
   ]
  },
  {
   "cell_type": "code",
   "execution_count": 157,
   "id": "e3b92cea",
   "metadata": {},
   "outputs": [
    {
     "name": "stdout",
     "output_type": "stream",
     "text": [
      "\u001b[1mMLB Strike Out Leaders\u001b[0m\n",
      "Rank Name                 Team                    Value\n",
      " 1   Eugenio Suarez       Seattle Mariners         110 \n",
      " 2   Patrick Wisdom       Chicago Cubs             106 \n",
      " 3   Kyle Schwarber       Philadelphia Phillies    100 \n",
      " 3   Chris Taylor         Los Angeles Dodgers      100 \n",
      " 5   Trevor Story         Boston Red Sox           96  \n",
      "\n"
     ]
    }
   ],
   "source": [
    "def current_SO_leaders():\n",
    "    print('\\033[1m' + 'MLB Strike Out Leaders' + '\\033[0m')\n",
    "    print(statsapi.league_leaders('strikeouts',season = 2022, limit = 5))\n",
    "current_SO_leaders()"
   ]
  },
  {
   "cell_type": "markdown",
   "id": "a1ac56eb",
   "metadata": {},
   "source": [
    "### Daily Summary for MLB Standings and League Leaders"
   ]
  },
  {
   "cell_type": "code",
   "execution_count": 160,
   "id": "e950f5b8",
   "metadata": {},
   "outputs": [],
   "source": [
    "def daily_summary():\n",
    "    print(('\\033[1;4m' + \"Major League Daily Summary for {}\".\n",
    "          format(datetime.datetime.now().strftime('%m-%d-%Y')) + '\\033[0m'))\n",
    "    print()\n",
    "    get_all_division_standings()\n",
    "    print('\\033[1;4m' + \"Major League Stats Leaders for {}\".\n",
    "          format(datetime.datetime.now().strftime('%m-%d-%Y')) + '\\033[0m')\n",
    "    print()\n",
    "    print('\\033[1;4m' + \"Offensive Stats Leaders\" + '\\033[0m')\n",
    "    print()\n",
    "    current_hr_leaders()\n",
    "    current_rbi_leaders()\n",
    "    current_hits_leaders()\n",
    "    print('\\033[1;4m' + \"Pitching Stats Leaders\" + '\\033[0m')\n",
    "    print()\n",
    "    current_era_leaders()\n",
    "    current_whip_leaders()\n",
    "    current_SO_leaders()"
   ]
  },
  {
   "cell_type": "code",
   "execution_count": 161,
   "id": "cc94b877",
   "metadata": {
    "scrolled": false
   },
   "outputs": [
    {
     "name": "stdout",
     "output_type": "stream",
     "text": [
      "\u001b[1;4mMajor League Daily Summary for 07-04-2022\u001b[0m\n",
      "\n",
      "\u001b[1;4mMajor League Standings for 07-04-2022\u001b[0m\n",
      "\n",
      "\u001b[1mAmerican League Standings\u001b[0m\n",
      "American League East\n",
      "Rank Team                   W   L   GB  (E#) WC Rank WC GB (E#)\n",
      " 1   New York Yankees      58  22   -    -      -      -    -  \n",
      " 2   Boston Red Sox        45  35  13.0  70     1    +2.0   -  \n",
      " 3   Toronto Blue Jays     44  36  14.0  69     2    +1.0   -  \n",
      " 4   Tampa Bay Rays        43  37  15.0  68     3      -    -  \n",
      " 5   Baltimore Orioles     37  44  21.5  61     8     6.5   76 \n",
      "\n",
      "American League Central\n",
      "Rank Team                   W   L   GB  (E#) WC Rank WC GB (E#)\n",
      " 1   Minnesota Twins       45  37   -    -      -      -    -  \n",
      " 2   Cleveland Guardians   40  37  2.5   81     4     1.5   83 \n",
      " 3   Chicago White Sox     38  39  4.5   79     5     3.5   81 \n",
      " 4   Detroit Tigers        31  47  12.0  71    10    11.0   73 \n",
      " 5   Kansas City Royals    29  48  13.5  70    11    12.5   72 \n",
      "\n",
      "American League West\n",
      "Rank Team                   W   L   GB  (E#) WC Rank WC GB (E#)\n",
      " 1   Houston Astros        51  27   -    -      -      -    -  \n",
      " 2   Seattle Mariners      39  42  13.5  70     6     4.5   78 \n",
      " 3   Texas Rangers         37  41  14.0  71     7     5.0   79 \n",
      " 4   Los Angeles Angels    37  44  15.5  68     9     6.5   76 \n",
      " 5   Oakland Athletics     26  55  26.5  57    12    17.5   65 \n",
      "\n",
      "\n",
      "\u001b[1mNational League Standings\u001b[0m\n",
      "National League East\n",
      "Rank Team                   W   L   GB  (E#) WC Rank WC GB (E#)\n",
      " 1   New York Mets         49  30   -    -      -      -    -  \n",
      " 2   Atlanta Braves        46  34  3.5   80     2    +2.5   -  \n",
      " 3   Philadelphia Phillies 42  38  7.5   76     4     1.5   81 \n",
      " 4   Miami Marlins         38  40  10.5  74     6     4.5   79 \n",
      " 5   Washington Nationals  29  53  21.5  61    11    15.5   66 \n",
      "\n",
      "National League Central\n",
      "Rank Team                   W   L   GB  (E#) WC Rank WC GB (E#)\n",
      " 1   Milwaukee Brewers     46  35   -    -      -      -    -  \n",
      " 2   St. Louis Cardinals   44  37  2.0   80     3      -    -  \n",
      " 3   Chicago Cubs          32  47  13.0  70     9    11.0   72 \n",
      " 4   Pittsburgh Pirates    32  47  13.0  70    10    11.0   72 \n",
      " 5   Cincinnati Reds       27  51  17.5  66    12    15.5   68 \n",
      "\n",
      "National League West\n",
      "Rank Team                   W   L   GB  (E#) WC Rank WC GB (E#)\n",
      " 1   Los Angeles Dodgers   49  29   -    -      -      -    -  \n",
      " 2   San Diego Padres      47  34  3.5   80     1    +3.0   -  \n",
      " 3   San Francisco Giants  40  37  8.5   77     5     2.0   82 \n",
      " 4   Arizona Diamondbacks  35  44  14.5  70     7     8.0   75 \n",
      " 5   Colorado Rockies      35  44  14.5  70     8     8.0   75 \n",
      "\n",
      "\n",
      "\u001b[1;4mMajor League Stats Leaders for 07-04-2022\u001b[0m\n",
      "\n",
      "\u001b[1;4mOffensive Stats Leaders\u001b[0m\n",
      "\n",
      "\u001b[1mMLB Home Run Leaders\u001b[0m\n",
      "Rank Name                 Team                    Value\n",
      " 1   Aaron Judge          New York Yankees         29  \n",
      " 2   Yordan Alvarez       Houston Astros           23  \n",
      " 2   Kyle Schwarber       Philadelphia Phillies    23  \n",
      " 2   Mike Trout           Los Angeles Angels       23  \n",
      " 5   Pete Alonso          New York Mets            22  \n",
      " 5   Anthony Rizzo        New York Yankees         22  \n",
      "\n",
      "\u001b[1mMLB RBI Leaders\u001b[0m\n",
      "Rank Name                 Team                    Value\n",
      " 1   Pete Alonso          New York Mets            69  \n",
      " 2   Paul Goldschmidt     St. Louis Cardinals      65  \n",
      " 3   C.J. Cron            Colorado Rockies         64  \n",
      " 4   Jose Ramirez         Cleveland Guardians      63  \n",
      " 5   Aaron Judge          New York Yankees         59  \n",
      "\n",
      "\u001b[1mMLB Hits Leaders\u001b[0m\n",
      "Rank Name                 Team                    Value\n",
      " 1   Rafael Devers        Boston Red Sox           104 \n",
      " 2   Paul Goldschmidt     St. Louis Cardinals      100 \n",
      " 3   Trea Turner          Los Angeles Dodgers      98  \n",
      " 4   Freddie Freeman      Los Angeles Dodgers      94  \n",
      " 5   Josh Bell            Washington Nationals     93  \n",
      "\n",
      "\u001b[1;4mPitching Stats Leaders\u001b[0m\n",
      "\n",
      "\u001b[1mMLB ERA Leaders\u001b[0m\n",
      "Rank Name                 Team                    Value\n",
      " 1   Tony Gonsolin        Los Angeles Dodgers     1.54 \n",
      " 2   Shane McClanahan     Tampa Bay Rays          1.74 \n",
      " 3   Sandy Alcantara      Miami Marlins           1.95 \n",
      " 4   Justin Verlander     Houston Astros          2.03 \n",
      " 5   Alek Manoah          Toronto Blue Jays       2.09 \n",
      "\n",
      "\u001b[1mMLB WHIP Leaders\u001b[0m\n",
      "Rank Name                 Team                    Value\n",
      " 1   Shane McClanahan     Tampa Bay Rays          0.81 \n",
      " 2   Tony Gonsolin        Los Angeles Dodgers     0.82 \n",
      " 3   Justin Verlander     Houston Astros          0.83 \n",
      " 4   Corbin Burnes        Milwaukee Brewers       0.92 \n",
      " 5   Aaron Nola           Philadelphia Phillies   0.92 \n",
      "\n",
      "\u001b[1mMLB Strike Out Leaders\u001b[0m\n",
      "Rank Name                 Team                    Value\n",
      " 1   Eugenio Suarez       Seattle Mariners         110 \n",
      " 2   Patrick Wisdom       Chicago Cubs             106 \n",
      " 3   Kyle Schwarber       Philadelphia Phillies    100 \n",
      " 3   Chris Taylor         Los Angeles Dodgers      100 \n",
      " 5   Trevor Story         Boston Red Sox           96  \n",
      "\n"
     ]
    }
   ],
   "source": [
    "daily_summary()"
   ]
  }
 ],
 "metadata": {
  "kernelspec": {
   "display_name": "Python 3 (ipykernel)",
   "language": "python",
   "name": "python3"
  },
  "language_info": {
   "codemirror_mode": {
    "name": "ipython",
    "version": 3
   },
   "file_extension": ".py",
   "mimetype": "text/x-python",
   "name": "python",
   "nbconvert_exporter": "python",
   "pygments_lexer": "ipython3",
   "version": "3.9.12"
  }
 },
 "nbformat": 4,
 "nbformat_minor": 5
}
