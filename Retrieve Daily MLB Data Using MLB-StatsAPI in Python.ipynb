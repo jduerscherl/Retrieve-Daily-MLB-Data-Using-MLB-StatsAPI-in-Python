{
 "cells": [
  {
   "cell_type": "markdown",
   "id": "d39fda51",
   "metadata": {},
   "source": [
    "## Retrieve Daily MLB Data Using MLB-StatsAPI in Python"
   ]
  },
  {
   "cell_type": "markdown",
   "id": "4a075098",
   "metadata": {},
   "source": [
    "MLB-StatsAPI wiki: https://github.com/toddrob99/MLB-StatsAPI/wiki"
   ]
  },
  {
   "cell_type": "markdown",
   "id": "45200681",
   "metadata": {},
   "source": [
    "### Import neccesary modules"
   ]
  },
  {
   "cell_type": "code",
   "execution_count": 95,
   "id": "3fd89464",
   "metadata": {},
   "outputs": [],
   "source": [
    "import pandas as pd\n",
    "import numpy as np\n",
    "import datetime\n",
    "\n",
    "# import MLB-StatsAPI module\n",
    "import statsapi"
   ]
  },
  {
   "cell_type": "markdown",
   "id": "b76f63d3",
   "metadata": {},
   "source": [
    "### Leagues ID\n",
    "##### American League = 103\n",
    "##### National League = 104\n",
    "\n",
    "### Divisions ID\n",
    "##### AL West = 200\n",
    "##### AL East = 201\n",
    "##### AL Central = 202\n",
    "##### NL West = 203\n",
    "##### NL East = 204\n",
    "##### NL Central = 205"
   ]
  },
  {
   "cell_type": "markdown",
   "id": "1e803a7b",
   "metadata": {},
   "source": [
    "### Functions that returns current division standings from MLB-StatsAPI"
   ]
  },
  {
   "cell_type": "code",
   "execution_count": 96,
   "id": "457cc84d",
   "metadata": {},
   "outputs": [
    {
     "data": {
      "text/html": [
       "<div>\n",
       "<style scoped>\n",
       "    .dataframe tbody tr th:only-of-type {\n",
       "        vertical-align: middle;\n",
       "    }\n",
       "\n",
       "    .dataframe tbody tr th {\n",
       "        vertical-align: top;\n",
       "    }\n",
       "\n",
       "    .dataframe thead th {\n",
       "        text-align: right;\n",
       "    }\n",
       "</style>\n",
       "<table border=\"1\" class=\"dataframe\">\n",
       "  <thead>\n",
       "    <tr style=\"text-align: right;\">\n",
       "      <th></th>\n",
       "      <th>div_rank</th>\n",
       "      <th>name</th>\n",
       "      <th>w</th>\n",
       "      <th>l</th>\n",
       "      <th>gb</th>\n",
       "      <th>elim_num</th>\n",
       "      <th>wc_rank</th>\n",
       "      <th>wc_gb</th>\n",
       "      <th>wc_elim_num</th>\n",
       "    </tr>\n",
       "  </thead>\n",
       "  <tbody>\n",
       "    <tr>\n",
       "      <th>0</th>\n",
       "      <td>1</td>\n",
       "      <td>Minnesota Twins</td>\n",
       "      <td>43</td>\n",
       "      <td>36</td>\n",
       "      <td>-</td>\n",
       "      <td>-</td>\n",
       "      <td>-</td>\n",
       "      <td>-</td>\n",
       "      <td>-</td>\n",
       "    </tr>\n",
       "    <tr>\n",
       "      <th>1</th>\n",
       "      <td>2</td>\n",
       "      <td>Cleveland Guardians</td>\n",
       "      <td>39</td>\n",
       "      <td>34</td>\n",
       "      <td>1.0</td>\n",
       "      <td>86</td>\n",
       "      <td>3</td>\n",
       "      <td>-</td>\n",
       "      <td>-</td>\n",
       "    </tr>\n",
       "    <tr>\n",
       "      <th>2</th>\n",
       "      <td>3</td>\n",
       "      <td>Chicago White Sox</td>\n",
       "      <td>35</td>\n",
       "      <td>39</td>\n",
       "      <td>5.5</td>\n",
       "      <td>81</td>\n",
       "      <td>8</td>\n",
       "      <td>4.5</td>\n",
       "      <td>84</td>\n",
       "    </tr>\n",
       "    <tr>\n",
       "      <th>3</th>\n",
       "      <td>4</td>\n",
       "      <td>Detroit Tigers</td>\n",
       "      <td>29</td>\n",
       "      <td>45</td>\n",
       "      <td>11.5</td>\n",
       "      <td>75</td>\n",
       "      <td>10</td>\n",
       "      <td>10.5</td>\n",
       "      <td>78</td>\n",
       "    </tr>\n",
       "    <tr>\n",
       "      <th>4</th>\n",
       "      <td>5</td>\n",
       "      <td>Kansas City Royals</td>\n",
       "      <td>27</td>\n",
       "      <td>47</td>\n",
       "      <td>13.5</td>\n",
       "      <td>73</td>\n",
       "      <td>11</td>\n",
       "      <td>12.5</td>\n",
       "      <td>76</td>\n",
       "    </tr>\n",
       "  </tbody>\n",
       "</table>\n",
       "</div>"
      ],
      "text/plain": [
       "  div_rank                 name   w   l    gb elim_num wc_rank wc_gb  \\\n",
       "0        1      Minnesota Twins  43  36     -        -       -     -   \n",
       "1        2  Cleveland Guardians  39  34   1.0       86       3     -   \n",
       "2        3    Chicago White Sox  35  39   5.5       81       8   4.5   \n",
       "3        4       Detroit Tigers  29  45  11.5       75      10  10.5   \n",
       "4        5   Kansas City Royals  27  47  13.5       73      11  12.5   \n",
       "\n",
       "  wc_elim_num  \n",
       "0           -  \n",
       "1           -  \n",
       "2          84  \n",
       "3          78  \n",
       "4          76  "
      ]
     },
     "execution_count": 96,
     "metadata": {},
     "output_type": "execute_result"
    }
   ],
   "source": [
    "def get_division_standings(league, division): \n",
    "    standings = pd.DataFrame(statsapi.standings_data(league)[division]['teams'])\n",
    "    standings = standings[['div_rank', 'name', 'w', 'l', 'gb', 'elim_num', 'wc_rank', 'wc_gb', 'wc_elim_num' ]]\n",
    "    return standings\n",
    "\n",
    "get_division_standings(103,202)"
   ]
  },
  {
   "cell_type": "code",
   "execution_count": 97,
   "id": "c53f8101",
   "metadata": {},
   "outputs": [
    {
     "name": "stdout",
     "output_type": "stream",
     "text": [
      "\u001b[1mMajor League Standings for 07-01-2022\u001b[0m\n",
      "\n",
      "\u001b[1mAmerican League\u001b[0m\n",
      "American League East\n",
      "Rank Team                   W   L   GB  (E#) WC Rank WC GB (E#)\n",
      " 1   New York Yankees      56  21   -    -      -      -    -  \n",
      " 2   Boston Red Sox        43  33  12.5  74     1    +2.5   -  \n",
      " 3   Toronto Blue Jays     43  33  12.5  74     2    +2.5   -  \n",
      " 4   Tampa Bay Rays        40  35  15.0  72     4      -    -  \n",
      " 5   Baltimore Orioles     35  42  21.0  65     9     6.0   81 \n",
      "\n",
      "American League Central\n",
      "Rank Team                   W   L   GB  (E#) WC Rank WC GB (E#)\n",
      " 1   Minnesota Twins       43  36   -    -      -      -    -  \n",
      " 2   Cleveland Guardians   39  34  1.0   86     3      -    -  \n",
      " 3   Chicago White Sox     35  39  5.5   81     8     4.5   84 \n",
      " 4   Detroit Tigers        29  45  11.5  75    10    10.5   78 \n",
      " 5   Kansas City Royals    27  47  13.5  73    11    12.5   76 \n",
      "\n",
      "American League West\n",
      "Rank Team                   W   L   GB  (E#) WC Rank WC GB (E#)\n",
      " 1   Houston Astros        48  27   -    -      -      -    -  \n",
      " 2   Texas Rangers         36  38  11.5  77     5     3.5   85 \n",
      " 3   Los Angeles Angels    37  41  12.5  74     6     4.5   82 \n",
      " 4   Seattle Mariners      37  41  12.5  74     7     4.5   82 \n",
      " 5   Oakland Athletics     25  53  24.5  62    12    16.5   70 \n",
      "\n",
      "\n",
      "\u001b[1mNational League\u001b[0m\n",
      "National League East\n",
      "Rank Team                   W   L   GB  (E#) WC Rank WC GB (E#)\n",
      " 1   New York Mets         47  29   -    -      -      -    -  \n",
      " 2   Atlanta Braves        44  33  3.5   83     2    +1.5   -  \n",
      " 3   Philadelphia Phillies 40  37  7.5   79     5     2.5   83 \n",
      " 4   Miami Marlins         34  40  12.0  76     6     7.0   80 \n",
      " 5   Washington Nationals  29  49  19.0  67    11    14.0   71 \n",
      "\n",
      "National League Central\n",
      "Rank Team                   W   L   GB  (E#) WC Rank WC GB (E#)\n",
      " 1   Milwaukee Brewers     44  34   -    -      -      -    -  \n",
      " 2   St. Louis Cardinals   43  35  1.0   84     3      -    -  \n",
      " 3   Pittsburgh Pirates    31  45  12.0  74     9    11.0   75 \n",
      " 4   Chicago Cubs          30  46  13.0  73    10    12.0   74 \n",
      " 5   Cincinnati Reds       26  49  16.5  70    12    15.5   71 \n",
      "\n",
      "National League West\n",
      "Rank Team                   W   L   GB  (E#) WC Rank WC GB (E#)\n",
      " 1   Los Angeles Dodgers   47  28   -    -      -      -    -  \n",
      " 2   San Diego Padres      46  32  2.5   84     1    +3.0   -  \n",
      " 3   San Francisco Giants  40  34  6.5   82     4     1.0   86 \n",
      " 4   Arizona Diamondbacks  34  42  13.5  74     7     8.0   78 \n",
      " 5   Colorado Rockies      33  43  14.5  73     8     9.0   77 \n",
      "\n",
      "\n"
     ]
    }
   ],
   "source": [
    "def get_all_division_standings():\n",
    "    print('\\033[1m' + \"Major League Standings for {}\".format(datetime.datetime.now().strftime('%m-%d-%Y')) + '\\033[0m')\n",
    "    print()\n",
    "    print('\\033[1m' + 'American League' + '\\033[0m')\n",
    "    print(statsapi.standings(103))\n",
    "    print('\\033[1m' + 'National League' + '\\033[0m')\n",
    "    print(statsapi.standings(104))\n",
    "    \n",
    "get_all_division_standings()"
   ]
  },
  {
   "cell_type": "markdown",
   "id": "b1ef5292",
   "metadata": {},
   "source": [
    "### Functions that returns current HR leaders for whole MLB and also for only rookies"
   ]
  },
  {
   "cell_type": "code",
   "execution_count": 98,
   "id": "d57ee092",
   "metadata": {},
   "outputs": [
    {
     "data": {
      "text/plain": [
       "['Rank Name                 Team                    Value',\n",
       " ' 1   Aaron Judge          New York Yankees         29  ',\n",
       " ' 2   Yordan Alvarez       Houston Astros           23  ',\n",
       " ' 2   Kyle Schwarber       Philadelphia Phillies    23  ',\n",
       " ' 2   Mike Trout           Los Angeles Angels       23  ',\n",
       " ' 5   Pete Alonso          New York Mets            22  ',\n",
       " '']"
      ]
     },
     "execution_count": 98,
     "metadata": {},
     "output_type": "execute_result"
    }
   ],
   "source": [
    "def current_hr_leaders():\n",
    "    hr_leaders = statsapi.league_leaders('homeRuns',season = 2022, limit = 5)\n",
    "    hr_leaders = hr_leaders.split('\\n')\n",
    "    return hr_leaders\n",
    "\n",
    "current_hr_leaders()"
   ]
  },
  {
   "cell_type": "code",
   "execution_count": 99,
   "id": "8f879739",
   "metadata": {},
   "outputs": [
    {
     "data": {
      "text/plain": [
       "['Rank Name                 Team                    Value',\n",
       " ' 1   Julio Rodriguez      Seattle Mariners         13  ',\n",
       " ' 1   Jack Suwinski        Pittsburgh Pirates       13  ',\n",
       " ' 3   Bobby Witt Jr.       Kansas City Royals       11  ',\n",
       " ' 4   Jeremy Pena          Houston Astros            9  ',\n",
       " ' 4   Juan Yepez           St. Louis Cardinals       9  ',\n",
       " '']"
      ]
     },
     "execution_count": 99,
     "metadata": {},
     "output_type": "execute_result"
    }
   ],
   "source": [
    "def current_rookie_hr_leaders():\n",
    "    rookie_hr_leaders = statsapi.league_leaders('homeRuns',season = 2022, playerPool = 'rookies',limit = 5)\n",
    "    rookie_hr_leaders = rookie_hr_leaders.split('\\n')\n",
    "    return rookie_hr_leaders\n",
    "\n",
    "current_rookie_hr_leaders()"
   ]
  },
  {
   "cell_type": "markdown",
   "id": "fe7d4b33",
   "metadata": {},
   "source": [
    "### Functions that return current ERA leaders"
   ]
  },
  {
   "cell_type": "code",
   "execution_count": 100,
   "id": "16e9b320",
   "metadata": {},
   "outputs": [
    {
     "data": {
      "text/plain": [
       "['Rank Name                 Team                    Value',\n",
       " ' 1   Shane McClanahan     Tampa Bay Rays          1.77 ',\n",
       " ' 2   Sandy Alcantara      Miami Marlins           1.95 ',\n",
       " ' 3   Justin Verlander     Houston Astros          2.03 ',\n",
       " ' 4   Alek Manoah          Toronto Blue Jays       2.09 ',\n",
       " ' 5   Martin Perez         Texas Rangers           2.22 ',\n",
       " '']"
      ]
     },
     "execution_count": 100,
     "metadata": {},
     "output_type": "execute_result"
    }
   ],
   "source": [
    "def current_era_leaders():\n",
    "    era_leaders = statsapi.league_leaders('ERA',season = 2022, limit = 5)\n",
    "    era_leaders = era_leaders.split('\\n')\n",
    "    return era_leaders\n",
    "\n",
    "current_era_leaders()"
   ]
  }
 ],
 "metadata": {
  "kernelspec": {
   "display_name": "Python 3 (ipykernel)",
   "language": "python",
   "name": "python3"
  },
  "language_info": {
   "codemirror_mode": {
    "name": "ipython",
    "version": 3
   },
   "file_extension": ".py",
   "mimetype": "text/x-python",
   "name": "python",
   "nbconvert_exporter": "python",
   "pygments_lexer": "ipython3",
   "version": "3.9.12"
  }
 },
 "nbformat": 4,
 "nbformat_minor": 5
}
